{
 "cells": [
  {
   "cell_type": "code",
   "execution_count": 3,
   "id": "ac372d52",
   "metadata": {},
   "outputs": [
    {
     "name": "stdout",
     "output_type": "stream",
     "text": [
      "sum of numbers in the list  55\n"
     ]
    }
   ],
   "source": [
    "lis1=[1,2,3,4,5,6,7,8,9,10]\n",
    "sum=0\n",
    "for i in lis1:\n",
    "    sum += i\n",
    "print(\"sum of numbers in the list \",sum)"
   ]
  },
  {
   "cell_type": "code",
   "execution_count": 18,
   "id": "21fecd36",
   "metadata": {},
   "outputs": [
    {
     "name": "stdout",
     "output_type": "stream",
     "text": [
      "key:  1 value:  one\n",
      "key:  2 value:  two\n",
      "key:  3 value:  three\n"
     ]
    }
   ],
   "source": [
    "dic={1:'one',2:'two',3:'three'}\n",
    "for i,j in dic.items():\n",
    "    print('key: ',i,'value: ',j)\n"
   ]
  },
  {
   "cell_type": "code",
   "execution_count": 32,
   "id": "14561cad",
   "metadata": {},
   "outputs": [
    {
     "name": "stdout",
     "output_type": "stream",
     "text": [
      "Welcome to the Bank\n",
      "please enter the password5678\n",
      "Wrong pwd, please try again..\n",
      "Welcome to the Bank\n",
      "please enter the password9875\n",
      "Wrong pwd, please try again..\n",
      "Welcome to the Bank\n",
      "please enter the password2345\n",
      "Wrong pwd, please try again..\n",
      "Account blocked due to three incorrect attempts\n",
      "Please try later or contact the Bank\n"
     ]
    }
   ],
   "source": [
    "sum1=0\n",
    "bal=20000\n",
    "while(sum1<3):\n",
    "    print('Welcome to the Bank')\n",
    "    pwd = input('please enter the password')\n",
    "    sum1 += 1\n",
    "    if pwd == '1234':\n",
    "        print('1. Balance 2. Withdrawal')\n",
    "        ch=int(input('enter your choice'))\n",
    "        if ch==1:\n",
    "            print('Balance is: ',bal)\n",
    "            print('Thank You')\n",
    "            break\n",
    "        else:\n",
    "            wd=int(input('Enter the amount to withdraw'))\n",
    "            print(\"Please collect cash, Balance: \",bal-wd)\n",
    "            print('Thank You')\n",
    "            break\n",
    "            \n",
    "    else:\n",
    "        print('Wrong pwd, please try again..')\n",
    "if sum1==3:\n",
    "    print(\"Account blocked due to three incorrect attempts\")\n",
    "    print(\"Please try later or contact the Bank\")"
   ]
  },
  {
   "cell_type": "code",
   "execution_count": 33,
   "id": "0ff1453e",
   "metadata": {},
   "outputs": [
    {
     "name": "stdout",
     "output_type": "stream",
     "text": [
      "[0, 1, 2, 3, 4, 5, 6, 7, 8, 9, 10]\n"
     ]
    }
   ],
   "source": [
    "print(list(range(0,11)))"
   ]
  },
  {
   "cell_type": "code",
   "execution_count": 34,
   "id": "701423f2",
   "metadata": {},
   "outputs": [
    {
     "name": "stdout",
     "output_type": "stream",
     "text": [
      "[0, 3, 6, 9]\n"
     ]
    }
   ],
   "source": [
    "print(list(range(0,11,3)))"
   ]
  },
  {
   "cell_type": "code",
   "execution_count": 35,
   "id": "7b6eeef4",
   "metadata": {},
   "outputs": [
    {
     "name": "stdout",
     "output_type": "stream",
     "text": [
      "3\n",
      "6\n",
      "9\n",
      "12\n",
      "15\n",
      "18\n"
     ]
    }
   ],
   "source": [
    "for i in list(range(3,21,3)):\n",
    "    print(i)"
   ]
  },
  {
   "cell_type": "markdown",
   "id": "1b18279e",
   "metadata": {},
   "source": [
    "Keeping track of how many loops you've gone through is so common,\n",
    "With enumerate, you don't need to worry about creating and updating \n",
    "loop_count variable"
   ]
  },
  {
   "cell_type": "code",
   "execution_count": 36,
   "id": "3361f2b4",
   "metadata": {},
   "outputs": [
    {
     "data": {
      "text/plain": [
       "[3, 5, 7]"
      ]
     },
     "execution_count": 36,
     "metadata": {},
     "output_type": "execute_result"
    }
   ],
   "source": [
    "[i for i in list(range(3,9,2))]"
   ]
  },
  {
   "cell_type": "code",
   "execution_count": 37,
   "id": "f0d4b81e",
   "metadata": {},
   "outputs": [
    {
     "name": "stdout",
     "output_type": "stream",
     "text": [
      "(0, 5)\n",
      "(1, 6)\n",
      "(2, 7)\n",
      "(3, 8)\n",
      "(4, 9)\n"
     ]
    }
   ],
   "source": [
    "for i in enumerate([5,6,7,8,9]):\n",
    "    print(i)\n",
    "    "
   ]
  },
  {
   "cell_type": "code",
   "execution_count": 39,
   "id": "cddc0d2c",
   "metadata": {},
   "outputs": [
    {
     "name": "stdout",
     "output_type": "stream",
     "text": [
      "letter 1 is A\n",
      "letter 2 is n\n",
      "letter 3 is u\n",
      "letter 4 is s\n",
      "letter 5 is h\n",
      "letter 6 is a\n"
     ]
    }
   ],
   "source": [
    "for i,letter in enumerate('Anusha',start=1):\n",
    "    print(\"letter {} is {}\".format(i,letter))"
   ]
  },
  {
   "cell_type": "code",
   "execution_count": 40,
   "id": "2fb4c3d9",
   "metadata": {},
   "outputs": [
    {
     "data": {
      "text/plain": [
       "[(0, 'a'), (1, 'b'), (2, 'c'), (3, 'd'), (4, 'e')]"
      ]
     },
     "execution_count": 40,
     "metadata": {},
     "output_type": "execute_result"
    }
   ],
   "source": [
    "list(enumerate('abcde'))"
   ]
  },
  {
   "cell_type": "markdown",
   "id": "de717aae",
   "metadata": {},
   "source": [
    "zip() function quickly creates a list of tuples by \"zipping\" up together \n",
    "two lists."
   ]
  },
  {
   "cell_type": "code",
   "execution_count": 42,
   "id": "01e4bb22",
   "metadata": {},
   "outputs": [
    {
     "data": {
      "text/plain": [
       "[(1, 'a'), (2, 'b'), (3, 'c'), (4, 'd'), (5, 'e')]"
      ]
     },
     "execution_count": 42,
     "metadata": {},
     "output_type": "execute_result"
    }
   ],
   "source": [
    "mylist1 = [1,2,3,4,5]\n",
    "mylist2 = ['a','b','c','d','e']\n",
    "list(zip(mylist1,mylist2))"
   ]
  },
  {
   "cell_type": "code",
   "execution_count": 43,
   "id": "f750d26e",
   "metadata": {},
   "outputs": [
    {
     "data": {
      "text/plain": [
       "<zip at 0x218e29e9cc0>"
      ]
     },
     "execution_count": 43,
     "metadata": {},
     "output_type": "execute_result"
    }
   ],
   "source": [
    "zip(mylist1,mylist2)"
   ]
  },
  {
   "cell_type": "code",
   "execution_count": 44,
   "id": "717e8eec",
   "metadata": {
    "scrolled": true
   },
   "outputs": [
    {
     "name": "stdout",
     "output_type": "stream",
     "text": [
      "first item was 1 and second item was a\n",
      "first item was 2 and second item was b\n",
      "first item was 3 and second item was c\n",
      "first item was 4 and second item was d\n",
      "first item was 5 and second item was e\n"
     ]
    }
   ],
   "source": [
    "for item1, item2 in zip(mylist1,mylist2):\n",
    "    print('first item was {} and second item was {}'.format(item1,item2))"
   ]
  },
  {
   "cell_type": "code",
   "execution_count": null,
   "id": "fb55c455",
   "metadata": {},
   "outputs": [],
   "source": [
    "Python comes with a built in random library. \n",
    "There are a lot of functions included in this random library."
   ]
  },
  {
   "cell_type": "code",
   "execution_count": 46,
   "id": "dc8b4a98",
   "metadata": {},
   "outputs": [
    {
     "data": {
      "text/plain": [
       "[1, 2, 3, 4, 5]"
      ]
     },
     "execution_count": 46,
     "metadata": {},
     "output_type": "execute_result"
    }
   ],
   "source": [
    "from random import shuffle\n",
    "mylist1"
   ]
  },
  {
   "cell_type": "code",
   "execution_count": 48,
   "id": "06c60cad",
   "metadata": {},
   "outputs": [
    {
     "data": {
      "text/plain": [
       "[2, 3, 1, 5, 4]"
      ]
     },
     "execution_count": 48,
     "metadata": {},
     "output_type": "execute_result"
    }
   ],
   "source": [
    "shuffle(mylist1)\n",
    "mylist1"
   ]
  },
  {
   "cell_type": "code",
   "execution_count": 49,
   "id": "a20257c4",
   "metadata": {},
   "outputs": [
    {
     "name": "stdout",
     "output_type": "stream",
     "text": [
      "None\n"
     ]
    }
   ],
   "source": [
    "print(shuffle(mylist1))"
   ]
  },
  {
   "cell_type": "code",
   "execution_count": 51,
   "id": "985a267c",
   "metadata": {},
   "outputs": [
    {
     "data": {
      "text/plain": [
       "65"
      ]
     },
     "execution_count": 51,
     "metadata": {},
     "output_type": "execute_result"
    }
   ],
   "source": [
    "from random import randint\n",
    "# Return random integer in range [a, b], including both end points.\n",
    "randint(0,100)"
   ]
  },
  {
   "cell_type": "code",
   "execution_count": null,
   "id": "84f28476",
   "metadata": {},
   "outputs": [],
   "source": []
  }
 ],
 "metadata": {
  "kernelspec": {
   "display_name": "Python 3 (ipykernel)",
   "language": "python",
   "name": "python3"
  },
  "language_info": {
   "codemirror_mode": {
    "name": "ipython",
    "version": 3
   },
   "file_extension": ".py",
   "mimetype": "text/x-python",
   "name": "python",
   "nbconvert_exporter": "python",
   "pygments_lexer": "ipython3",
   "version": "3.9.13"
  }
 },
 "nbformat": 4,
 "nbformat_minor": 5
}
