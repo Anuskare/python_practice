{
 "cells": [
  {
   "cell_type": "markdown",
   "id": "3e8e83d5",
   "metadata": {},
   "source": [
    "Methods are essentially functions built into objects. \n",
    "creating our own objects and methods inside a class \n",
    "using Object Oriented Programming (OOP) \n",
    "we can think of methods as having an \n",
    "argument 'self' referring to the object itself"
   ]
  },
  {
   "cell_type": "markdown",
   "id": "4738c5ab",
   "metadata": {},
   "source": [
    "The return keyword of a function allows you to actually \n",
    "save the result of the output of a function as a variable. \n",
    "The print() function simply displays the output to you, \n",
    "but doesn't save it for future use. "
   ]
  },
  {
   "cell_type": "code",
   "execution_count": 3,
   "id": "d3353300",
   "metadata": {},
   "outputs": [
    {
     "data": {
      "text/plain": [
       "[6, 16, 22, 28]"
      ]
     },
     "execution_count": 3,
     "metadata": {},
     "output_type": "execute_result"
    }
   ],
   "source": [
    "# Check if any number in a list is even\n",
    "\n",
    "def iseven(inl):\n",
    "    return [i for i in inl if i%2==0]\n",
    "\n",
    "iseven([5,6,7,16,22,28])\n",
    "    "
   ]
  },
  {
   "cell_type": "code",
   "execution_count": 12,
   "id": "687cafc2",
   "metadata": {},
   "outputs": [],
   "source": [
    "# award emp of the month to the person with max woking hours\n",
    "wkhrs = [('Abby',100),('Billy',400),('Cassie',800),('george',500),('sam',285)]\n",
    "empl=[]\n",
    "sal=[]\n",
    "dicc={}\n",
    "def eom(wk):\n",
    "    \n",
    "    for (x,y) in wk:\n",
    "        empl.append(x)\n",
    "        sal.append(y)\n",
    "        \n",
    "        \n",
    "    ini =sal.index(max(sal))\n",
    "    print('Emp of the month:',empl[ini])\n"
   ]
  },
  {
   "cell_type": "code",
   "execution_count": 13,
   "id": "ee80fb3f",
   "metadata": {},
   "outputs": [
    {
     "name": "stdout",
     "output_type": "stream",
     "text": [
      "Emp of the month: Cassie\n"
     ]
    }
   ],
   "source": [
    "eom(wkhrs)"
   ]
  },
  {
   "cell_type": "code",
   "execution_count": 15,
   "id": "d5e3ed16",
   "metadata": {},
   "outputs": [
    {
     "name": "stdout",
     "output_type": "stream",
     "text": [
      "Emp of the month: sita\n"
     ]
    }
   ],
   "source": [
    "eom([('Abby',100),('Billy',400),('Cassie',800),('rom',300),('sita',900)])"
   ]
  },
  {
   "cell_type": "code",
   "execution_count": 22,
   "id": "725995a3",
   "metadata": {},
   "outputs": [
    {
     "data": {
      "text/plain": [
       "88"
      ]
     },
     "execution_count": 22,
     "metadata": {},
     "output_type": "execute_result"
    }
   ],
   "source": [
    "tryl=[2,39,6,4,5,67,32,88,9]\n",
    "def mol(abc):\n",
    "    abc.sort()\n",
    "    return abc[-1]\n",
    "\n",
    "mol(tryl)"
   ]
  },
  {
   "cell_type": "code",
   "execution_count": 28,
   "id": "f0d039df",
   "metadata": {},
   "outputs": [
    {
     "data": {
      "text/plain": [
       "[89]"
      ]
     },
     "execution_count": 28,
     "metadata": {},
     "output_type": "execute_result"
    }
   ],
   "source": [
    "# finding max\n",
    "tryl=[2,39,6,4,5,67,32,88,9,89]\n",
    "n1=[0]\n",
    "for i in tryl:\n",
    "    if i>n1[-1]:\n",
    "        n1[0]=i\n",
    "n1"
   ]
  },
  {
   "cell_type": "code",
   "execution_count": null,
   "id": "ce48ea9f",
   "metadata": {},
   "outputs": [],
   "source": []
  }
 ],
 "metadata": {
  "kernelspec": {
   "display_name": "Python 3 (ipykernel)",
   "language": "python",
   "name": "python3"
  },
  "language_info": {
   "codemirror_mode": {
    "name": "ipython",
    "version": 3
   },
   "file_extension": ".py",
   "mimetype": "text/x-python",
   "name": "python",
   "nbconvert_exporter": "python",
   "pygments_lexer": "ipython3",
   "version": "3.9.13"
  }
 },
 "nbformat": 4,
 "nbformat_minor": 5
}
